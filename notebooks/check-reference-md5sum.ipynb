{
 "cells": [
  {
   "cell_type": "markdown",
   "metadata": {},
   "source": [
    "### Check md5sum of Manis javanica reference genome file\n",
    "\n",
    "The downloaded files are:\n",
    "- GCF_001685135.1_ManJav1.0_genomic.fna.gz \n",
    "- md5checksums.txt\n",
    "\n",
    "Install md5sum:"
   ]
  },
  {
   "cell_type": "code",
   "execution_count": 2,
   "metadata": {},
   "outputs": [
    {
     "name": "stdout",
     "output_type": "stream",
     "text": [
      "Updating Homebrew...\n",
      "\u001b[34m==>\u001b[0m \u001b[1mAuto-updated Homebrew!\u001b[0m\n",
      "Updated 1 tap (homebrew/core).\n",
      "\u001b[34m==>\u001b[0m \u001b[1mNew Formulae\u001b[0m\n",
      "azure-storage-cpp   fluxctl             mesa                sourcedocs\n",
      "\u001b[34m==>\u001b[0m \u001b[1mUpdated Formulae\u001b[0m\n",
      "activemq                                 grails\n",
      "agda                                     grib-api\n",
      "aha                                      hadolint\n",
      "algernon                                 harfbuzz\n",
      "amazon-ecs-cli                           hebcal\n",
      "ammonite-repl                            hive\n",
      "amqp-cpp                                 hub\n",
      "annie                                    i2pd\n",
      "ansible-cmdb                             ioping\n",
      "apache-flink                             jhipster\n",
      "ark                                      jq\n",
      "asciidoctor                              khal\n",
      "basex                                    kobalt\n",
      "bash-snippets                            lastpass-cli\n",
      "buku                                     latexdiff\n",
      "caf                                      lean-cli\n",
      "camlp5                                   lego\n",
      "carla                                    libjson-rpc-cpp\n",
      "carthage                                 liblo\n",
      "ccextractor                              librdkafka\n",
      "cern-ndiff                               libsigc++\n",
      "cheat                                    logtalk\n",
      "chruby-fish                              math-comp\n",
      "circleci                                 megacmd\n",
      "citus                                    mercurial\n",
      "collector-sidecar                        mill\n",
      "composer                                 mongo-cxx-driver\n",
      "container-diff                           nativefier\n",
      "coq                                      openapi-generator\n",
      "cpprestsdk                               opencascade\n",
      "curl                                     openvdb\n",
      "dartsim                                  oysttyer\n",
      "dfmt                                     pacapt\n",
      "diff-pdf                                 passenger\n",
      "dita-ot                                  pdftoedn\n",
      "django-completion                        pdftoipe\n",
      "docker-compose                           planck\n",
      "docker-compose-completion                poppler\n",
      "erlang@20                                posh\n",
      "ethereum                                 ppsspp\n",
      "fluent-bit                               pspg\n",
      "fonttools                                q\n",
      "fork-cleaner                             qcli\n",
      "freetds@0.91                             rdesktop\n",
      "fselect                                  sdl2_image\n",
      "git-archive-all                          sdl2_mixer\n",
      "git-cinnabar                             selenium-server-standalone\n",
      "git-recent                               shibboleth-sp\n",
      "gitlab-runner                            source-to-image\n",
      "glibmm                                   svtplay-dl\n",
      "glm                                      telegraf\n",
      "gmime                                    thors-serializer\n",
      "gmsh                                     tor\n",
      "go                                       typescript\n",
      "go-statik                                weechat\n",
      "goaccess                                 xml-tooling-c\n",
      "godep                                    you-get\n",
      "goreleaser                               youtube-dl\n",
      "gosu\n",
      "\u001b[34m==>\u001b[0m \u001b[1mDeleted Formulae\u001b[0m\n",
      "kibana@4.4                 nethack4                   ruby@2.2\n",
      "\n",
      "\u001b[34m==>\u001b[0m \u001b[1mDownloading https://homebrew.bintray.com/bottles/md5sha1sum-0.9.5.high_sierr\u001b[0m\n",
      "######################################################################## 100.0%\n",
      "\u001b[34m==>\u001b[0m \u001b[1mPouring md5sha1sum-0.9.5.high_sierra.bottle.2.tar.gz\u001b[0m\n",
      "🍺  /usr/local/Cellar/md5sha1sum/0.9.5: 8 files, 41.9KB\n"
     ]
    }
   ],
   "source": [
    "!brew install md5sha1sum"
   ]
  },
  {
   "cell_type": "code",
   "execution_count": 3,
   "metadata": {},
   "outputs": [
    {
     "name": "stdout",
     "output_type": "stream",
     "text": [
      "b39a15fa0ef6c0fadef7bddf4ec83b41  ./data/reference-genome/GCF_001685135.1_ManJav1.0_genomic.fna.gz\n"
     ]
    }
   ],
   "source": [
    "!md5sum ./data/reference-genome/GCF_001685135.1_ManJav1.0_genomic.fna.gz"
   ]
  },
  {
   "cell_type": "code",
   "execution_count": 4,
   "metadata": {},
   "outputs": [
    {
     "name": "stdout",
     "output_type": "stream",
     "text": [
      "b39a15fa0ef6c0fadef7bddf4ec83b41  ./GCF_001685135.1_ManJav1.0_genomic.fna.gz\n"
     ]
    }
   ],
   "source": [
    "!grep -E GCF_001685135.1_ManJav1.0_genomic.fna.gz ./data/reference-genome/md5checksums.txt"
   ]
  },
  {
   "cell_type": "code",
   "execution_count": null,
   "metadata": {},
   "outputs": [],
   "source": []
  }
 ],
 "metadata": {
  "kernelspec": {
   "display_name": "Python 2",
   "language": "python",
   "name": "python2"
  },
  "language_info": {
   "codemirror_mode": {
    "name": "ipython",
    "version": 2
   },
   "file_extension": ".py",
   "mimetype": "text/x-python",
   "name": "python",
   "nbconvert_exporter": "python",
   "pygments_lexer": "ipython2",
   "version": "2.7.15"
  }
 },
 "nbformat": 4,
 "nbformat_minor": 2
}
